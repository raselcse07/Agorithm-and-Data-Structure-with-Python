{
 "cells": [
  {
   "cell_type": "markdown",
   "metadata": {},
   "source": [
    "# Linear Search"
   ]
  },
  {
   "cell_type": "code",
   "execution_count": 6,
   "metadata": {},
   "outputs": [
    {
     "name": "stdout",
     "output_type": "stream",
     "text": [
      "Index : 5\n"
     ]
    }
   ],
   "source": [
    "def linearSearch(arr,target):\n",
    "    for i in range(len(arr)):\n",
    "        if arr[i] == target:\n",
    "            return i\n",
    "    return -1\n",
    "\n",
    "if __name__ == '__main__':\n",
    "    \n",
    "    arr = [10,20,30,40,50,60,70]\n",
    "    print(f'Index : {linearSearch(arr,60)}')"
   ]
  },
  {
   "cell_type": "markdown",
   "metadata": {},
   "source": [
    "# Binary Search"
   ]
  },
  {
   "cell_type": "code",
   "execution_count": 11,
   "metadata": {},
   "outputs": [
    {
     "name": "stdout",
     "output_type": "stream",
     "text": [
      "Index : 5\n"
     ]
    }
   ],
   "source": [
    "def binarySearch(arr,target):\n",
    "    start = 0\n",
    "    end = len(arr)-1\n",
    "    \n",
    "    while start <= end:\n",
    "        mid = (start+end)//2\n",
    "        if arr[mid] == target:\n",
    "            return mid\n",
    "        if arr[mid] < target:\n",
    "            start = mid + 1\n",
    "        else:\n",
    "            end = mid - 1\n",
    "    return -1\n",
    "            \n",
    "if __name__ == '__main__':\n",
    "    arr = [10,20,30,40,50,60,70]\n",
    "    print(f'Index : {binarySearch(arr,60)}')\n",
    "    "
   ]
  },
  {
   "cell_type": "code",
   "execution_count": null,
   "metadata": {},
   "outputs": [],
   "source": []
  }
 ],
 "metadata": {
  "kernelspec": {
   "display_name": "Python 3",
   "language": "python",
   "name": "python3"
  },
  "language_info": {
   "codemirror_mode": {
    "name": "ipython",
    "version": 3
   },
   "file_extension": ".py",
   "mimetype": "text/x-python",
   "name": "python",
   "nbconvert_exporter": "python",
   "pygments_lexer": "ipython3",
   "version": "3.6.4"
  }
 },
 "nbformat": 4,
 "nbformat_minor": 2
}
