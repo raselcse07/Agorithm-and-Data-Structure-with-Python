{
 "cells": [
  {
   "cell_type": "markdown",
   "metadata": {},
   "source": [
    "# Buble Sort"
   ]
  },
  {
   "cell_type": "code",
   "execution_count": 26,
   "metadata": {},
   "outputs": [
    {
     "name": "stdout",
     "output_type": "stream",
     "text": [
      "Input : [64, 34, 25, 12, 22, 22, 11, 90]\n",
      "Output : [11, 12, 22, 22, 25, 34, 64, 90]\n"
     ]
    }
   ],
   "source": [
    "def bubbleSort(arr):\n",
    "    for i in range(len(arr)):\n",
    "        for j in range(0,len(arr)-i-1):\n",
    "            if arr[j]>arr[j+1]:\n",
    "                temp = arr[j]\n",
    "                arr[j] = arr[j+1]\n",
    "                arr[j+1] = temp\n",
    "    return arr\n",
    "\n",
    "if __name__ == '__main__':\n",
    "    arr = [64, 34, 25, 12, 22, 22, 11, 90]\n",
    "    print(f'Input : {arr}\\nOutput : {bubbleSort(arr)}')\n",
    "                "
   ]
  },
  {
   "cell_type": "markdown",
   "metadata": {},
   "source": [
    "# Selection Sort"
   ]
  },
  {
   "cell_type": "code",
   "execution_count": 65,
   "metadata": {},
   "outputs": [
    {
     "name": "stdout",
     "output_type": "stream",
     "text": [
      "Input : [64, 34, 25, 12, 22, 22, 11, 90, 9, 90, 90, 9, 9, 9, 9]\n",
      "Output : [9, 9, 9, 9, 9, 11, 12, 22, 22, 25, 34, 64, 90, 90, 90]\n"
     ]
    }
   ],
   "source": [
    "def selectionSort(arr):\n",
    "    for i in range(len(arr)):\n",
    "        index_min = i\n",
    "        for j in range(i+1,len(arr)):\n",
    "            if arr[j] < arr[index_min]:\n",
    "                index_min = j\n",
    "                \n",
    "        if index_min != i:\n",
    "            temp = arr[i]\n",
    "            a[i] = arr[index_min]\n",
    "            arr[index_min] = temp\n",
    "    return arr\n",
    "            \n",
    "if __name__ == '__main__':\n",
    "    arr = [64, 34, 25, 12, 22, 22, 11, 90, 9, 90, 90, 9, 9, 9, 9]\n",
    "    print(f'Input : {arr}\\nOutput : {bubbleSort(arr)}')"
   ]
  },
  {
   "cell_type": "markdown",
   "metadata": {},
   "source": [
    "# Insertion Sort"
   ]
  },
  {
   "cell_type": "code",
   "execution_count": 24,
   "metadata": {},
   "outputs": [
    {
     "name": "stdout",
     "output_type": "stream",
     "text": [
      "Input : [64, 34, 25, 12, 22, 22, 11, 90]\n",
      "Output : [11, 12, 22, 22, 25, 34, 64, 90]\n"
     ]
    }
   ],
   "source": [
    "def insertionSort(arr):\n",
    "    for i in range(1,len(arr)):\n",
    "        item = arr[i]\n",
    "        j = i-1\n",
    "        while(j >=0 and arr[j] > item):\n",
    "            arr[j+i] = a[j]\n",
    "            j = j-1\n",
    "        a[j+1] = item\n",
    "    return arr\n",
    "\n",
    "if __name__ == '__main__':\n",
    "    arr = [64, 34, 25, 12, 22, 22,11, 90]\n",
    "    print(f'Input : {arr}\\nOutput : {bubbleSort(arr)}')"
   ]
  },
  {
   "cell_type": "markdown",
   "metadata": {},
   "source": [
    "# All Sort in a Class"
   ]
  },
  {
   "cell_type": "code",
   "execution_count": 74,
   "metadata": {},
   "outputs": [
    {
     "name": "stdout",
     "output_type": "stream",
     "text": [
      "======= Ascending Order =======\n",
      "[9, 9, 9, 9, 9, 11, 12, 22, 22, 25, 34, 64, 90, 90, 90]\n",
      "[9, 9, 9, 9, 9, 11, 12, 22, 22, 25, 34, 64, 90, 90, 90]\n",
      "[9, 9, 9, 9, 9, 11, 12, 22, 22, 25, 34, 64, 90, 90, 90]\n",
      "======= Descending Order =======\n",
      "[90, 90, 90, 64, 34, 25, 22, 22, 12, 11, 9, 9, 9, 9, 9]\n",
      "[90, 90, 90, 64, 34, 25, 22, 22, 12, 11, 9, 9, 9, 9, 9]\n",
      "[90, 90, 90, 64, 34, 25, 22, 22, 12, 11, 9, 9, 9, 9, 9]\n"
     ]
    }
   ],
   "source": [
    "class SortData:\n",
    "    \n",
    "    # define constructor\n",
    "    def __init__(self,arr):\n",
    "        self.arr = arr\n",
    "        \n",
    "    # define method\n",
    "  \n",
    "    # --------------------------------------------------------\n",
    "    #                     ascending order                   #\n",
    "    # --------------------------------------------------------\n",
    "    \n",
    "    # bubble sort\n",
    "    def bubbleSort(self):\n",
    "        for i in range(len(self.arr)):\n",
    "            for j in range(0,len(self.arr)-i-1):\n",
    "                if self.arr[j] > self.arr[j+1]:\n",
    "                    temp = self.arr[j]\n",
    "                    self.arr[j] = self.arr[j+1]\n",
    "                    self.arr[j+1] = temp\n",
    "        print(self.arr)\n",
    "\n",
    "    \n",
    "    # selection sort\n",
    "    def selectionSort(self):\n",
    "        for i in range(len(self.arr)):\n",
    "            index_min = i\n",
    "            for j in range(i+1,len(self.arr)):\n",
    "                if self.arr[j] < self.arr[index_min]:\n",
    "                    index_min = j\n",
    "\n",
    "            if index_min != i:\n",
    "                temp = self.arr[i]\n",
    "                self.arr[i] = self.arr[index_min]\n",
    "                self.arr[index_min] = temp\n",
    "        print(self.arr)\n",
    "\n",
    "    # insertion sort\n",
    "    def insertionSort(self):\n",
    "        for i in range(len(self.arr)):\n",
    "            item = self.arr[i]\n",
    "            j = i-1\n",
    "            while (j >= 0 and self.arr[j] > item):\n",
    "                self.arr[j+1] = self.arr[j]\n",
    "                j = j-1\n",
    "            \n",
    "            self.arr[j+1] = item\n",
    "        print(self.arr)\n",
    "   \n",
    "    # --------------------------------------------------------\n",
    "    #                     descending order                   #\n",
    "    # --------------------------------------------------------\n",
    "    \n",
    "    # bubble sort\n",
    "    \n",
    "    def bubbleSortReversed(self):\n",
    "        for i in range(len(self.arr)):\n",
    "            for j in range(0,len(self.arr)-i-1):\n",
    "                if self.arr[j] < self.arr[j+1]:\n",
    "                    temp = self.arr[j]\n",
    "                    self.arr[j] = self.arr[j+1]\n",
    "                    self.arr[j+1] = temp\n",
    "        print(self.arr)\n",
    "\n",
    "    \n",
    "    # selection sort\n",
    "    def selectionSortReversed(self):\n",
    "        for i in range(len(self.arr)):\n",
    "            index_max = i\n",
    "            for j in range(i+1,len(self.arr)):\n",
    "                if self.arr[j] > self.arr[index_max]:\n",
    "                    index_max = j\n",
    "\n",
    "            if index_max != i:\n",
    "                temp = self.arr[i]\n",
    "                self.arr[i] = self.arr[index_max]\n",
    "                self.arr[index_max] = temp\n",
    "        print(self.arr)\n",
    "\n",
    "    # insertion sort\n",
    "    def insertionSortReversed(self):\n",
    "        for i in range(len(self.arr)):\n",
    "            item = self.arr[i]\n",
    "            j = i-1\n",
    "            while (j >= 0 and self.arr[j] < item):\n",
    "                self.arr[j+1] = self.arr[j]\n",
    "                j = j-1\n",
    "            \n",
    "            self.arr[j+1] = item\n",
    "        print(self.arr)\n",
    "\n",
    "# create instance/object\n",
    "sort = SortData( [64, 34, 25, 12, 22, 22, 11, 90, 9, 90, 90, 9, 9, 9, 9])\n",
    "# call the method\n",
    "print('======= Ascending Order =======')                           \n",
    "sort.bubbleSort()\n",
    "sort.selectionSort()\n",
    "sort.insertionSort()\n",
    "print('======= Descending Order =======')                           \n",
    "sort.bubbleSortReversed()\n",
    "sort.selectionSortReversed()\n",
    "sort.insertionSortReversed()\n"
   ]
  },
  {
   "cell_type": "code",
   "execution_count": null,
   "metadata": {},
   "outputs": [],
   "source": []
  }
 ],
 "metadata": {
  "kernelspec": {
   "display_name": "Python 3",
   "language": "python",
   "name": "python3"
  },
  "language_info": {
   "codemirror_mode": {
    "name": "ipython",
    "version": 3
   },
   "file_extension": ".py",
   "mimetype": "text/x-python",
   "name": "python",
   "nbconvert_exporter": "python",
   "pygments_lexer": "ipython3",
   "version": "3.6.4"
  }
 },
 "nbformat": 4,
 "nbformat_minor": 2
}
