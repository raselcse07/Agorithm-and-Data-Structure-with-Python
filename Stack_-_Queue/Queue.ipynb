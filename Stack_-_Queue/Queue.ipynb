{
 "cells": [
  {
   "cell_type": "code",
   "execution_count": 65,
   "metadata": {},
   "outputs": [
    {
     "name": "stdout",
     "output_type": "stream",
     "text": [
      "Inserted 10\n",
      "Inserted 20\n",
      "Removed 10\n",
      "Inserted 30\n",
      "Queue is full !\n",
      "Removed 20\n",
      "Inserted 40\n",
      "Removed 30\n",
      "Removed 10\n",
      "Queue is empty !\n"
     ]
    }
   ],
   "source": [
    "class CircularQueue:\n",
    "    \n",
    "    # constructor\n",
    "    def __init__(self,maxSize):\n",
    "        self.maxSize = maxSize\n",
    "        self.queue = list()\n",
    "        self.font = 0\n",
    "        self.rear = 0\n",
    "    \n",
    "    # calculate the size of queue\n",
    "    def size(self):\n",
    "        if self.rear >= self.font:\n",
    "            return self.rear - self.font\n",
    "        else:\n",
    "            return self.maxSize - (self.font - self.rear)\n",
    "    \n",
    "    # adds item\n",
    "    def enqueue(self,data):\n",
    "        # if queue is full\n",
    "        if self.size() == self.maxSize - 1:\n",
    "            print('Queue is full !')\n",
    "        else:\n",
    "            self.queue.append(data)\n",
    "            print(f'Inserted {data}')\n",
    "            self.rear = (self.rear+1) % self.maxSize\n",
    "    \n",
    "    # removes item\n",
    "    def dequeue(self):\n",
    "        # if queue is empty\n",
    "        if self.size() == 0:\n",
    "            print('Queue is empty !')\n",
    "        else:\n",
    "            print(f'Removed {self.queue[self.font]}')\n",
    "            self.font = (self.font+1) % self.maxSize\n",
    "\n",
    "# instance/object\n",
    "q = CircularQueue(3)\n",
    "q.enqueue(10)\n",
    "q.enqueue(20)\n",
    "q.dequeue()\n",
    "q.enqueue(30)\n",
    "q.enqueue(30)\n",
    "q.dequeue()\n",
    "q.enqueue(40)\n",
    "q.dequeue()\n",
    "q.dequeue()\n",
    "q.dequeue()"
   ]
  },
  {
   "cell_type": "code",
   "execution_count": null,
   "metadata": {},
   "outputs": [],
   "source": []
  }
 ],
 "metadata": {
  "kernelspec": {
   "display_name": "Python 3",
   "language": "python",
   "name": "python3"
  },
  "language_info": {
   "codemirror_mode": {
    "name": "ipython",
    "version": 3
   },
   "file_extension": ".py",
   "mimetype": "text/x-python",
   "name": "python",
   "nbconvert_exporter": "python",
   "pygments_lexer": "ipython3",
   "version": "3.6.4"
  }
 },
 "nbformat": 4,
 "nbformat_minor": 2
}
