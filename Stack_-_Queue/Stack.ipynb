{
 "cells": [
  {
   "cell_type": "code",
   "execution_count": 48,
   "metadata": {},
   "outputs": [
    {
     "name": "stdout",
     "output_type": "stream",
     "text": [
      "Added 10\n",
      "Added 11\n",
      "Added 12\n",
      "Added 13\n",
      "Added 14\n",
      "Stack is full !\n",
      "removed 14\n",
      "Added 17\n",
      "Stack is full !\n",
      "removed 17\n",
      "removed 13\n",
      "Added 19\n",
      "Added 20\n",
      "Stack is full !\n",
      "removed 20\n",
      "Added string\n",
      "Stack : [10, 11, 12, 19, 'string']\n"
     ]
    }
   ],
   "source": [
    "class Stack:\n",
    "    \n",
    "    # constructor\n",
    "    def __init__(self,max_size):\n",
    "        self.max_size = max_size\n",
    "        self.stack = list()\n",
    "        self.top = 0\n",
    "    \n",
    "    # adds item to the stack\n",
    "    def push(self,data):\n",
    "        if self.top >= self.max_size:\n",
    "            print(\"Stack is full !\")\n",
    "        else:\n",
    "            self.stack.append(data)\n",
    "            self.top += 1\n",
    "            print(f\"Added {data}\")\n",
    "        \n",
    "    # removes item from the stack\n",
    "    def pop(self):\n",
    "        if self.top <= 0:\n",
    "            print(\"Stack is empty !\")\n",
    "        else:\n",
    "            data = self.stack.pop()\n",
    "            self.top -= 1\n",
    "            print(f\"removed {data}\")\n",
    "\n",
    "        \n",
    "# instance/object\n",
    "s = Stack(5)\n",
    "s.push(10)\n",
    "s.push(11)\n",
    "s.push(12)\n",
    "s.push(13)\n",
    "s.push(14)\n",
    "s.push(15)\n",
    "s.pop()\n",
    "s.push(17)\n",
    "s.push(19)\n",
    "s.pop()\n",
    "s.pop()\n",
    "s.push(19)\n",
    "s.push(20)\n",
    "s.push(12)\n",
    "s.pop()\n",
    "s.push('string')\n",
    "print(f\"Stack : {s.stack}\")\n"
   ]
  },
  {
   "cell_type": "code",
   "execution_count": null,
   "metadata": {},
   "outputs": [],
   "source": []
  }
 ],
 "metadata": {
  "kernelspec": {
   "display_name": "Python 3",
   "language": "python",
   "name": "python3"
  },
  "language_info": {
   "codemirror_mode": {
    "name": "ipython",
    "version": 3
   },
   "file_extension": ".py",
   "mimetype": "text/x-python",
   "name": "python",
   "nbconvert_exporter": "python",
   "pygments_lexer": "ipython3",
   "version": "3.6.4"
  }
 },
 "nbformat": 4,
 "nbformat_minor": 2
}
